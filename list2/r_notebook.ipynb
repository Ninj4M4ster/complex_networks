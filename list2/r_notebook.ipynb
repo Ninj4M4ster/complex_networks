{
 "cells": [
  {
   "cell_type": "markdown",
   "metadata": {},
   "source": [
    "# Lista 2\n",
    "## Grafy losowe\n",
    "\n",
    "Generujemy sieć Erdos-Renyi o N = 100 i p = 0.05, a następnie listujemy wszystkie wierzchołki i krawędzie."
   ]
  },
  {
   "cell_type": "code",
   "execution_count": 10,
   "metadata": {
    "vscode": {
     "languageId": "r"
    }
   },
   "outputs": [
    {
     "name": "stdout",
     "output_type": "stream",
     "text": [
      "IGRAPH b3f2fac U--- 100 145 -- Erdos-Renyi (gnp) graph\n",
      "+ attr: name (g/c), type (g/c), loops (g/l), p (g/n)\n",
      "+ edges:\n",
      "  1 --  15                                 2 --                                \n",
      "  3 --   7  14  22  81                     4 --                                \n",
      "  5 --  75                                 6 --  20  55  76                    \n",
      "  7 --   3  17  33  41  97                 8 --  88                            \n",
      "  9 --  53  60  69  72                    10 --  19  20  99                    \n",
      " 11 --  22  29  64  65  80                12 --  16  31                        \n",
      " 13 --  59  72  93                        14 --   3  31  34  48  80            \n",
      " 15 --   1  23                            16 --  12                            \n",
      " 17 --   7  78                            18 --  62  92                        \n",
      " 19 --  10                                20 --   6  10  33  45  70  72  73 100\n",
      " 21 --  79  93                            22 --   3  11                        \n",
      " 23 --  15  35  49                        24 --  62                            \n",
      " 25 --                                    26 --  34  50  59  80                \n",
      " 27 --  29  55                            28 --  31  56  97                    \n",
      " 29 --  11  27  55  61  78  96            30 --  37  84                        \n",
      " 31 --  12  14  28  32  71                32 --  31  72  85                    \n",
      " 33 --   7  20  99                        34 --  14  26  51  55  63  77  96    \n",
      " 35 --  23  56  59  75                    36 --  43  58  65                    \n",
      " 37 --  30  83  91 100                    38 --  87                            \n",
      " 39 --  59  89                            40 --  60  87                        \n",
      " 41 --   7  70  73                        42 --  71                            \n",
      " 43 --  36  54  77  84  90 100            44 --                                \n",
      " 45 --  20  81                            46 --  69                            \n",
      " 47 --  73  82  83                        48 --  14                            \n",
      " 49 --  23  51  57  74  75                50 --  26  77  97                    \n",
      " 51 --  34  49  94                        52 --                                \n",
      " 53 --   9  64  81                        54 --  43  70  82                    \n",
      " 55 --   6  27  29  34  58  64            56 --  28  35  57  84                \n",
      " 57 --  49  56  71  97                    58 --  36  55  96  99                \n",
      " 59 --  13  26  35  39  78                60 --   9  40                        \n",
      " 61 --  29  63                            62 --  18  24  67                    \n",
      " 63 --  34  61  82  97                    64 --  11  53  55  65                \n",
      " 65 --  11  36  64  66                    66 --  65  83                        \n",
      " 67 --  62                                68 --  87  89                        \n",
      " 69 --   9  46                            70 --  20  41  54                    \n",
      " 71 --  31  42  57                        72 --   9  13  20  32  96            \n",
      " 73 --  20  41  47  90  93                74 --  49                            \n",
      " 75 --   5  35  49  98                    76 --   6                            \n",
      " 77 --  34  43  50                        78 --  17  29  59  94  96            \n",
      " 79 --  21  82                            80 --  11  14  26  91  98            \n",
      " 81 --   3  45  53                        82 --  47  54  63  79                \n",
      " 83 --  37  47  66  90                    84 --  30  43  56  99                \n",
      " 85 --  32                                86 --  89                            \n",
      " 87 --  38  40  68                        88 --   8  94                        \n",
      " 89 --  39  68  86                        90 --  43  73  83                    \n",
      " 91 --  37  80                            92 --  18                            \n",
      " 93 --  13  21  73                        94 --  51  78  88                    \n",
      " 95 --                                    96 --  29  34  58  72  78            \n",
      " 97 --   7  28  50  57  63                98 --  75  80 100                    \n",
      " 99 --  10  33  58  84                   100 --  20  37  43  98                \n"
     ]
    }
   ],
   "source": [
    "library(igraph)\n",
    "\n",
    "N <- 100\n",
    "p <- 0.03\n",
    "\n",
    "er_graph <- sample_gnp(N, p)\n",
    "print_all(er_graph)"
   ]
  },
  {
   "cell_type": "markdown",
   "metadata": {},
   "source": [
    "Teraz ustawimy wszystkie wagi krawędzi na losowe wartości z zakresu 0.01 do 1"
   ]
  },
  {
   "cell_type": "code",
   "execution_count": 18,
   "metadata": {
    "vscode": {
     "languageId": "r"
    }
   },
   "outputs": [
    {
     "data": {
      "text/html": [
       "<style>\n",
       ".list-inline {list-style: none; margin:0; padding: 0}\n",
       ".list-inline>li {display: inline-block}\n",
       ".list-inline>li:not(:last-child)::after {content: \"\\00b7\"; padding: 0 .5ex}\n",
       "</style>\n",
       "<ol class=list-inline><li>0.836997275706381</li><li>0.112657165387645</li><li>0.151979916060809</li><li>0.196347930242773</li><li>0.700858702852856</li><li>0.475893337421585</li><li>0.155109163005836</li><li>0.457736813996453</li><li>0.625983256474137</li><li>0.574365502374712</li><li>0.6889346982399</li><li>0.294925342102069</li><li>0.923330952238757</li><li>0.820729490045924</li><li>0.962832680139691</li><li>0.335863895949442</li><li>0.97403300261125</li><li>0.533220006756019</li><li>0.85126217469573</li><li>0.316874393781181</li><li>0.546220151176676</li><li>0.873647443980444</li><li>0.961161582451314</li><li>0.300959821834695</li><li>0.520468329333235</li><li>0.0603476926754229</li><li>0.658915904951282</li><li>0.162349895122461</li><li>0.828825664741453</li><li>0.719304476976395</li><li>0.10285648860503</li><li>0.963501892734785</li><li>0.0634698332333937</li><li>0.200841147799511</li><li>0.200359111400321</li><li>0.331498702156823</li><li>0.843055174015462</li><li>0.125279302801937</li><li>0.819355894578621</li><li>0.4012926864787</li><li>0.458016185595188</li><li>0.821150639022235</li><li>0.844727695747279</li><li>0.483666523483116</li><li>0.397689292076975</li><li>0.324690876940731</li><li>0.64685965284938</li><li>0.97502153885318</li><li>0.0748100095405243</li><li>0.299831778432708</li><li>0.508896895332728</li><li>0.620658529857174</li><li>0.395845582943875</li><li>0.463021419376601</li><li>0.128888168407138</li><li>0.155857856264338</li><li>0.770478945346549</li><li>0.559043558391277</li><li>0.647889084585477</li><li>0.202729732971638</li><li>0.610050628127065</li><li>0.549916500255931</li><li>0.122736256723292</li><li>0.27527026604861</li><li>0.383596471610945</li><li>0.737118107660208</li><li>0.340659132881556</li><li>0.683074981230311</li><li>0.553570811010431</li><li>0.200215824693441</li><li>0.996902145398781</li><li>0.313991123717278</li><li>0.527579952941742</li><li>0.364237623100635</li><li>0.934043322007638</li><li>0.0585257162246853</li><li>0.949198229014873</li><li>0.622655327578541</li><li>0.205860097161494</li><li>0.732456643220503</li><li>0.454083953101654</li><li>0.267427504009102</li><li>0.331360786615405</li><li>0.145251589256804</li><li>0.897084752209485</li><li>0.605693183823023</li><li>0.415334754248615</li><li>0.902971778213978</li><li>0.613557582425419</li><li>0.664075215714984</li><li>0.122820144130383</li><li>0.384013706196565</li><li>0.42477861456573</li><li>0.209532582794782</li><li>0.417306959906127</li><li>0.759385653638747</li><li>0.684960393998772</li><li>0.520250963554718</li><li>0.0403077998850495</li><li>0.446521404916421</li><li>0.0157571284868754</li><li>0.935295049736742</li><li>0.690896695870906</li><li>0.240009324527346</li><li>0.159864681619219</li><li>0.568794064035174</li><li>0.430538418954238</li><li>0.593331789039075</li><li>0.908042721988168</li><li>0.806578200126532</li><li>0.764441056023352</li><li>0.953283988973126</li><li>0.722750410160515</li><li>0.197616744188126</li><li>0.807089933755342</li><li>0.695262504182756</li><li>0.159768716120161</li><li>0.710358478426933</li><li>0.401750875336584</li><li>0.215208754020277</li><li>0.960023556454107</li><li>0.418196795047261</li><li>0.532439690190367</li><li>0.724424934496637</li><li>0.616507555716671</li><li>0.839983603595756</li><li>0.757908863427583</li><li>0.485506282728165</li><li>0.767468506221194</li><li>0.0585844240174629</li><li>0.665327230188996</li><li>0.073686380488798</li><li>0.660509056660812</li><li>0.27459755765507</li><li>0.845327045158483</li><li>0.588864823393524</li><li>0.993477769945748</li><li>0.916390708731487</li><li>0.538271522179712</li><li>0.692052353452891</li><li>0.230846825505141</li><li>0.0917816423857584</li><li>0.857996100632008</li><li>0.272968795178458</li><li>0.619795185658149</li></ol>\n"
      ],
      "text/latex": [
       "\\begin{enumerate*}\n",
       "\\item 0.836997275706381\n",
       "\\item 0.112657165387645\n",
       "\\item 0.151979916060809\n",
       "\\item 0.196347930242773\n",
       "\\item 0.700858702852856\n",
       "\\item 0.475893337421585\n",
       "\\item 0.155109163005836\n",
       "\\item 0.457736813996453\n",
       "\\item 0.625983256474137\n",
       "\\item 0.574365502374712\n",
       "\\item 0.6889346982399\n",
       "\\item 0.294925342102069\n",
       "\\item 0.923330952238757\n",
       "\\item 0.820729490045924\n",
       "\\item 0.962832680139691\n",
       "\\item 0.335863895949442\n",
       "\\item 0.97403300261125\n",
       "\\item 0.533220006756019\n",
       "\\item 0.85126217469573\n",
       "\\item 0.316874393781181\n",
       "\\item 0.546220151176676\n",
       "\\item 0.873647443980444\n",
       "\\item 0.961161582451314\n",
       "\\item 0.300959821834695\n",
       "\\item 0.520468329333235\n",
       "\\item 0.0603476926754229\n",
       "\\item 0.658915904951282\n",
       "\\item 0.162349895122461\n",
       "\\item 0.828825664741453\n",
       "\\item 0.719304476976395\n",
       "\\item 0.10285648860503\n",
       "\\item 0.963501892734785\n",
       "\\item 0.0634698332333937\n",
       "\\item 0.200841147799511\n",
       "\\item 0.200359111400321\n",
       "\\item 0.331498702156823\n",
       "\\item 0.843055174015462\n",
       "\\item 0.125279302801937\n",
       "\\item 0.819355894578621\n",
       "\\item 0.4012926864787\n",
       "\\item 0.458016185595188\n",
       "\\item 0.821150639022235\n",
       "\\item 0.844727695747279\n",
       "\\item 0.483666523483116\n",
       "\\item 0.397689292076975\n",
       "\\item 0.324690876940731\n",
       "\\item 0.64685965284938\n",
       "\\item 0.97502153885318\n",
       "\\item 0.0748100095405243\n",
       "\\item 0.299831778432708\n",
       "\\item 0.508896895332728\n",
       "\\item 0.620658529857174\n",
       "\\item 0.395845582943875\n",
       "\\item 0.463021419376601\n",
       "\\item 0.128888168407138\n",
       "\\item 0.155857856264338\n",
       "\\item 0.770478945346549\n",
       "\\item 0.559043558391277\n",
       "\\item 0.647889084585477\n",
       "\\item 0.202729732971638\n",
       "\\item 0.610050628127065\n",
       "\\item 0.549916500255931\n",
       "\\item 0.122736256723292\n",
       "\\item 0.27527026604861\n",
       "\\item 0.383596471610945\n",
       "\\item 0.737118107660208\n",
       "\\item 0.340659132881556\n",
       "\\item 0.683074981230311\n",
       "\\item 0.553570811010431\n",
       "\\item 0.200215824693441\n",
       "\\item 0.996902145398781\n",
       "\\item 0.313991123717278\n",
       "\\item 0.527579952941742\n",
       "\\item 0.364237623100635\n",
       "\\item 0.934043322007638\n",
       "\\item 0.0585257162246853\n",
       "\\item 0.949198229014873\n",
       "\\item 0.622655327578541\n",
       "\\item 0.205860097161494\n",
       "\\item 0.732456643220503\n",
       "\\item 0.454083953101654\n",
       "\\item 0.267427504009102\n",
       "\\item 0.331360786615405\n",
       "\\item 0.145251589256804\n",
       "\\item 0.897084752209485\n",
       "\\item 0.605693183823023\n",
       "\\item 0.415334754248615\n",
       "\\item 0.902971778213978\n",
       "\\item 0.613557582425419\n",
       "\\item 0.664075215714984\n",
       "\\item 0.122820144130383\n",
       "\\item 0.384013706196565\n",
       "\\item 0.42477861456573\n",
       "\\item 0.209532582794782\n",
       "\\item 0.417306959906127\n",
       "\\item 0.759385653638747\n",
       "\\item 0.684960393998772\n",
       "\\item 0.520250963554718\n",
       "\\item 0.0403077998850495\n",
       "\\item 0.446521404916421\n",
       "\\item 0.0157571284868754\n",
       "\\item 0.935295049736742\n",
       "\\item 0.690896695870906\n",
       "\\item 0.240009324527346\n",
       "\\item 0.159864681619219\n",
       "\\item 0.568794064035174\n",
       "\\item 0.430538418954238\n",
       "\\item 0.593331789039075\n",
       "\\item 0.908042721988168\n",
       "\\item 0.806578200126532\n",
       "\\item 0.764441056023352\n",
       "\\item 0.953283988973126\n",
       "\\item 0.722750410160515\n",
       "\\item 0.197616744188126\n",
       "\\item 0.807089933755342\n",
       "\\item 0.695262504182756\n",
       "\\item 0.159768716120161\n",
       "\\item 0.710358478426933\n",
       "\\item 0.401750875336584\n",
       "\\item 0.215208754020277\n",
       "\\item 0.960023556454107\n",
       "\\item 0.418196795047261\n",
       "\\item 0.532439690190367\n",
       "\\item 0.724424934496637\n",
       "\\item 0.616507555716671\n",
       "\\item 0.839983603595756\n",
       "\\item 0.757908863427583\n",
       "\\item 0.485506282728165\n",
       "\\item 0.767468506221194\n",
       "\\item 0.0585844240174629\n",
       "\\item 0.665327230188996\n",
       "\\item 0.073686380488798\n",
       "\\item 0.660509056660812\n",
       "\\item 0.27459755765507\n",
       "\\item 0.845327045158483\n",
       "\\item 0.588864823393524\n",
       "\\item 0.993477769945748\n",
       "\\item 0.916390708731487\n",
       "\\item 0.538271522179712\n",
       "\\item 0.692052353452891\n",
       "\\item 0.230846825505141\n",
       "\\item 0.0917816423857584\n",
       "\\item 0.857996100632008\n",
       "\\item 0.272968795178458\n",
       "\\item 0.619795185658149\n",
       "\\end{enumerate*}\n"
      ],
      "text/markdown": [
       "1. 0.836997275706381\n",
       "2. 0.112657165387645\n",
       "3. 0.151979916060809\n",
       "4. 0.196347930242773\n",
       "5. 0.700858702852856\n",
       "6. 0.475893337421585\n",
       "7. 0.155109163005836\n",
       "8. 0.457736813996453\n",
       "9. 0.625983256474137\n",
       "10. 0.574365502374712\n",
       "11. 0.6889346982399\n",
       "12. 0.294925342102069\n",
       "13. 0.923330952238757\n",
       "14. 0.820729490045924\n",
       "15. 0.962832680139691\n",
       "16. 0.335863895949442\n",
       "17. 0.97403300261125\n",
       "18. 0.533220006756019\n",
       "19. 0.85126217469573\n",
       "20. 0.316874393781181\n",
       "21. 0.546220151176676\n",
       "22. 0.873647443980444\n",
       "23. 0.961161582451314\n",
       "24. 0.300959821834695\n",
       "25. 0.520468329333235\n",
       "26. 0.0603476926754229\n",
       "27. 0.658915904951282\n",
       "28. 0.162349895122461\n",
       "29. 0.828825664741453\n",
       "30. 0.719304476976395\n",
       "31. 0.10285648860503\n",
       "32. 0.963501892734785\n",
       "33. 0.0634698332333937\n",
       "34. 0.200841147799511\n",
       "35. 0.200359111400321\n",
       "36. 0.331498702156823\n",
       "37. 0.843055174015462\n",
       "38. 0.125279302801937\n",
       "39. 0.819355894578621\n",
       "40. 0.4012926864787\n",
       "41. 0.458016185595188\n",
       "42. 0.821150639022235\n",
       "43. 0.844727695747279\n",
       "44. 0.483666523483116\n",
       "45. 0.397689292076975\n",
       "46. 0.324690876940731\n",
       "47. 0.64685965284938\n",
       "48. 0.97502153885318\n",
       "49. 0.0748100095405243\n",
       "50. 0.299831778432708\n",
       "51. 0.508896895332728\n",
       "52. 0.620658529857174\n",
       "53. 0.395845582943875\n",
       "54. 0.463021419376601\n",
       "55. 0.128888168407138\n",
       "56. 0.155857856264338\n",
       "57. 0.770478945346549\n",
       "58. 0.559043558391277\n",
       "59. 0.647889084585477\n",
       "60. 0.202729732971638\n",
       "61. 0.610050628127065\n",
       "62. 0.549916500255931\n",
       "63. 0.122736256723292\n",
       "64. 0.27527026604861\n",
       "65. 0.383596471610945\n",
       "66. 0.737118107660208\n",
       "67. 0.340659132881556\n",
       "68. 0.683074981230311\n",
       "69. 0.553570811010431\n",
       "70. 0.200215824693441\n",
       "71. 0.996902145398781\n",
       "72. 0.313991123717278\n",
       "73. 0.527579952941742\n",
       "74. 0.364237623100635\n",
       "75. 0.934043322007638\n",
       "76. 0.0585257162246853\n",
       "77. 0.949198229014873\n",
       "78. 0.622655327578541\n",
       "79. 0.205860097161494\n",
       "80. 0.732456643220503\n",
       "81. 0.454083953101654\n",
       "82. 0.267427504009102\n",
       "83. 0.331360786615405\n",
       "84. 0.145251589256804\n",
       "85. 0.897084752209485\n",
       "86. 0.605693183823023\n",
       "87. 0.415334754248615\n",
       "88. 0.902971778213978\n",
       "89. 0.613557582425419\n",
       "90. 0.664075215714984\n",
       "91. 0.122820144130383\n",
       "92. 0.384013706196565\n",
       "93. 0.42477861456573\n",
       "94. 0.209532582794782\n",
       "95. 0.417306959906127\n",
       "96. 0.759385653638747\n",
       "97. 0.684960393998772\n",
       "98. 0.520250963554718\n",
       "99. 0.0403077998850495\n",
       "100. 0.446521404916421\n",
       "101. 0.0157571284868754\n",
       "102. 0.935295049736742\n",
       "103. 0.690896695870906\n",
       "104. 0.240009324527346\n",
       "105. 0.159864681619219\n",
       "106. 0.568794064035174\n",
       "107. 0.430538418954238\n",
       "108. 0.593331789039075\n",
       "109. 0.908042721988168\n",
       "110. 0.806578200126532\n",
       "111. 0.764441056023352\n",
       "112. 0.953283988973126\n",
       "113. 0.722750410160515\n",
       "114. 0.197616744188126\n",
       "115. 0.807089933755342\n",
       "116. 0.695262504182756\n",
       "117. 0.159768716120161\n",
       "118. 0.710358478426933\n",
       "119. 0.401750875336584\n",
       "120. 0.215208754020277\n",
       "121. 0.960023556454107\n",
       "122. 0.418196795047261\n",
       "123. 0.532439690190367\n",
       "124. 0.724424934496637\n",
       "125. 0.616507555716671\n",
       "126. 0.839983603595756\n",
       "127. 0.757908863427583\n",
       "128. 0.485506282728165\n",
       "129. 0.767468506221194\n",
       "130. 0.0585844240174629\n",
       "131. 0.665327230188996\n",
       "132. 0.073686380488798\n",
       "133. 0.660509056660812\n",
       "134. 0.27459755765507\n",
       "135. 0.845327045158483\n",
       "136. 0.588864823393524\n",
       "137. 0.993477769945748\n",
       "138. 0.916390708731487\n",
       "139. 0.538271522179712\n",
       "140. 0.692052353452891\n",
       "141. 0.230846825505141\n",
       "142. 0.0917816423857584\n",
       "143. 0.857996100632008\n",
       "144. 0.272968795178458\n",
       "145. 0.619795185658149\n",
       "\n",
       "\n"
      ],
      "text/plain": [
       "  [1] 0.83699728 0.11265717 0.15197992 0.19634793 0.70085870 0.47589334\n",
       "  [7] 0.15510916 0.45773681 0.62598326 0.57436550 0.68893470 0.29492534\n",
       " [13] 0.92333095 0.82072949 0.96283268 0.33586390 0.97403300 0.53322001\n",
       " [19] 0.85126217 0.31687439 0.54622015 0.87364744 0.96116158 0.30095982\n",
       " [25] 0.52046833 0.06034769 0.65891590 0.16234990 0.82882566 0.71930448\n",
       " [31] 0.10285649 0.96350189 0.06346983 0.20084115 0.20035911 0.33149870\n",
       " [37] 0.84305517 0.12527930 0.81935589 0.40129269 0.45801619 0.82115064\n",
       " [43] 0.84472770 0.48366652 0.39768929 0.32469088 0.64685965 0.97502154\n",
       " [49] 0.07481001 0.29983178 0.50889690 0.62065853 0.39584558 0.46302142\n",
       " [55] 0.12888817 0.15585786 0.77047895 0.55904356 0.64788908 0.20272973\n",
       " [61] 0.61005063 0.54991650 0.12273626 0.27527027 0.38359647 0.73711811\n",
       " [67] 0.34065913 0.68307498 0.55357081 0.20021582 0.99690215 0.31399112\n",
       " [73] 0.52757995 0.36423762 0.93404332 0.05852572 0.94919823 0.62265533\n",
       " [79] 0.20586010 0.73245664 0.45408395 0.26742750 0.33136079 0.14525159\n",
       " [85] 0.89708475 0.60569318 0.41533475 0.90297178 0.61355758 0.66407522\n",
       " [91] 0.12282014 0.38401371 0.42477861 0.20953258 0.41730696 0.75938565\n",
       " [97] 0.68496039 0.52025096 0.04030780 0.44652140 0.01575713 0.93529505\n",
       "[103] 0.69089670 0.24000932 0.15986468 0.56879406 0.43053842 0.59333179\n",
       "[109] 0.90804272 0.80657820 0.76444106 0.95328399 0.72275041 0.19761674\n",
       "[115] 0.80708993 0.69526250 0.15976872 0.71035848 0.40175088 0.21520875\n",
       "[121] 0.96002356 0.41819680 0.53243969 0.72442493 0.61650756 0.83998360\n",
       "[127] 0.75790886 0.48550628 0.76746851 0.05858442 0.66532723 0.07368638\n",
       "[133] 0.66050906 0.27459756 0.84532705 0.58886482 0.99347777 0.91639071\n",
       "[139] 0.53827152 0.69205235 0.23084683 0.09178164 0.85799610 0.27296880\n",
       "[145] 0.61979519"
      ]
     },
     "metadata": {},
     "output_type": "display_data"
    }
   ],
   "source": [
    "edge.attributes(er_graph)$weight <-\n",
    "  runif(ecount(er_graph), min = 0.01, max = 1.0)\n",
    "edge.attributes(er_graph)$weight"
   ]
  },
  {
   "cell_type": "markdown",
   "metadata": {},
   "source": [
    "Teraz obliczymy współczynnik grupowania każdego węzła i utworzymy ich histogram "
   ]
  },
  {
   "cell_type": "code",
   "execution_count": 29,
   "metadata": {
    "vscode": {
     "languageId": "r"
    }
   },
   "outputs": [
    {
     "data": {
      "image/png": "[encoded data removed]",
      "text/plain": [
       "Plot with title \"Histogram of clust_coefficients\""
      ]
     },
     "metadata": {
      "image/png": {
       "height": 420,
       "width": 420
      }
     },
     "output_type": "display_data"
    }
   ],
   "source": [
    "clust_coefficients <- transitivity(er_graph, type = \"local\")\n",
    "hist(clust_coefficients)"
   ]
  },
  {
   "cell_type": "markdown",
   "metadata": {},
   "source": [
    "Liczba komponentów w grafie"
   ]
  },
  {
   "cell_type": "code",
   "execution_count": 30,
   "metadata": {
    "vscode": {
     "languageId": "r"
    }
   },
   "outputs": [
    {
     "name": "stdout",
     "output_type": "stream",
     "text": [
      "[1] 8\n"
     ]
    }
   ],
   "source": [
    "print(count_components(er_graph))"
   ]
  },
  {
   "cell_type": "markdown",
   "metadata": {},
   "source": [
    "A teraz zwizualizujemy graf w taki sposób, aby rozmiar węzłów odpowiadała ich stopniowi"
   ]
  },
  {
   "cell_type": "code",
   "execution_count": 46,
   "metadata": {
    "vscode": {
     "languageId": "r"
    }
   },
   "outputs": [
    {
     "data": {
      "image/png": "[encoded data removed]",
      "text/plain": [
       "Plot with title \"\""
      ]
     },
     "metadata": {
      "image/png": {
       "height": 420,
       "width": 420
      }
     },
     "output_type": "display_data"
    }
   ],
   "source": [
    "plot(er_graph, vertex.size=2*degree(er_graph)+5)"
   ]
  }
 ],
 "metadata": {
  "kernelspec": {
   "display_name": "R",
   "language": "R",
   "name": "ir"
  },
  "language_info": {
   "codemirror_mode": "r",
   "file_extension": ".r",
   "mimetype": "text/x-r-source",
   "name": "R",
   "pygments_lexer": "r",
   "version": "4.4.3"
  }
 },
 "nbformat": 4,
 "nbformat_minor": 2
}
